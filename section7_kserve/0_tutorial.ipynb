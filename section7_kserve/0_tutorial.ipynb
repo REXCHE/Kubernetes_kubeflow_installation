{
 "cells": [
  {
   "cell_type": "code",
   "execution_count": 15,
   "id": "b2606876-7f69-49ac-90d7-dbe7e57e108c",
   "metadata": {},
   "outputs": [],
   "source": [
    "# https://github.com/kserve/kserve/tree/master/docs"
   ]
  },
  {
   "cell_type": "markdown",
   "id": "c07e0b1c-4e6a-413d-b8dc-35a5a5bc7428",
   "metadata": {},
   "source": [
    "### iris-example.yaml\n",
    "```\n",
    "apiVersion: \"serving.kserve.io/v1beta1\"\n",
    "kind: \"InferenceService\"\n",
    "metadata:\n",
    "  annotations:\n",
    "    sidecar.istio.io/inject: \"false\"\n",
    "  name: \"sklearn-iris\"\n",
    "spec:\n",
    "  predictor:\n",
    "    sklearn:\n",
    "      image: \"kserve/sklearnserver:v0.9.0\"\n",
    "      storageUri: \"gs://kfserving-examples/models/sklearn/1.0/model\"\n",
    "```\n",
    "- example의 model은 kserve8.0 이상에서 동작하도록 만들어져 있기 때문에 image를 따로 불러와야 한다. \n",
    "\n",
    "### iris-request.yaml\n",
    "```\n",
    "{\n",
    "    \"instances\": [\n",
    "      [6.8,  2.8,  4.8,  1.4],\n",
    "      [6.0,  3.4,  4.5,  1.6]\n",
    "    ]\n",
    "}\n",
    "```"
   ]
  },
  {
   "cell_type": "code",
   "execution_count": 16,
   "id": "80415d9e-1126-40b1-9984-54a398a4ee37",
   "metadata": {
    "scrolled": true,
    "tags": []
   },
   "outputs": [
    {
     "name": "stdout",
     "output_type": "stream",
     "text": [
      "Requirement already satisfied: kserve==0.8 in /opt/conda/lib/python3.8/site-packages (0.8.0)\n",
      "Requirement already satisfied: cachetools==4.2.2 in /opt/conda/lib/python3.8/site-packages (from kserve==0.8) (4.2.2)\n",
      "Requirement already satisfied: adal>=1.2.2 in /opt/conda/lib/python3.8/site-packages (from kserve==0.8) (1.2.7)\n",
      "Requirement already satisfied: googleapis-common-protos==1.53.0 in /opt/conda/lib/python3.8/site-packages (from kserve==0.8) (1.53.0)\n",
      "Requirement already satisfied: ray[serve]==1.9.0 in /opt/conda/lib/python3.8/site-packages (from kserve==0.8) (1.9.0)\n",
      "Requirement already satisfied: google-api-core==1.29.0 in /opt/conda/lib/python3.8/site-packages (from kserve==0.8) (1.29.0)\n",
      "Requirement already satisfied: numpy~=1.19.2 in /opt/conda/lib/python3.8/site-packages (from kserve==0.8) (1.19.5)\n",
      "Requirement already satisfied: boto3==1.20.24 in /opt/conda/lib/python3.8/site-packages (from kserve==0.8) (1.20.24)\n",
      "Collecting argparse>=1.4.0\n",
      "  Using cached argparse-1.4.0-py2.py3-none-any.whl (23 kB)\n",
      "Requirement already satisfied: table-logger>=0.3.5 in /opt/conda/lib/python3.8/site-packages (from kserve==0.8) (0.3.6)\n",
      "Requirement already satisfied: tornado>=6.0.0 in /opt/conda/lib/python3.8/site-packages (from kserve==0.8) (6.1)\n",
      "Requirement already satisfied: cffi==1.14.6 in /opt/conda/lib/python3.8/site-packages (from kserve==0.8) (1.14.6)\n",
      "Requirement already satisfied: azure-storage-blob==12.8.1 in /opt/conda/lib/python3.8/site-packages (from kserve==0.8) (12.8.1)\n",
      "Requirement already satisfied: cloudevents>=1.2.0 in /opt/conda/lib/python3.8/site-packages (from kserve==0.8) (1.2.0)\n",
      "Requirement already satisfied: google-cloud-storage>=1.41.1 in /opt/conda/lib/python3.8/site-packages (from kserve==0.8) (1.44.0)\n",
      "Requirement already satisfied: google-auth==1.34.0 in /opt/conda/lib/python3.8/site-packages (from kserve==0.8) (1.34.0)\n",
      "Requirement already satisfied: idna==3.2 in /opt/conda/lib/python3.8/site-packages (from kserve==0.8) (3.2)\n",
      "Requirement already satisfied: certifi==2021.5.30 in /opt/conda/lib/python3.8/site-packages (from kserve==0.8) (2021.5.30)\n",
      "Requirement already satisfied: azure-identity>=1.6.0 in /opt/conda/lib/python3.8/site-packages (from kserve==0.8) (1.11.0)\n",
      "Requirement already satisfied: jmespath==0.10.0 in /opt/conda/lib/python3.8/site-packages (from kserve==0.8) (0.10.0)\n",
      "Requirement already satisfied: kubernetes>=12.0.0 in /opt/conda/lib/python3.8/site-packages (from kserve==0.8) (12.0.1)\n",
      "Requirement already satisfied: python-dateutil>=2.5.3 in /opt/conda/lib/python3.8/site-packages (from kserve==0.8) (2.8.1)\n",
      "Requirement already satisfied: avro>=1.10.1 in /opt/conda/lib/python3.8/site-packages (from kserve==0.8) (1.11.0)\n",
      "Requirement already satisfied: grpcio>=1.34.0 in /opt/conda/lib/python3.8/site-packages (from kserve==0.8) (1.34.1)\n",
      "Requirement already satisfied: azure-core==1.17.0 in /opt/conda/lib/python3.8/site-packages (from kserve==0.8) (1.17.0)\n",
      "Requirement already satisfied: setuptools>=21.0.0 in /opt/conda/lib/python3.8/site-packages (from kserve==0.8) (49.6.0.post20210108)\n",
      "Requirement already satisfied: psutil>=5.0 in /opt/conda/lib/python3.8/site-packages (from kserve==0.8) (5.9.2)\n",
      "Requirement already satisfied: minio<7.0.0,>=4.0.9 in /opt/conda/lib/python3.8/site-packages (from kserve==0.8) (6.0.2)\n",
      "Requirement already satisfied: cryptography==3.4.7 in /opt/conda/lib/python3.8/site-packages (from kserve==0.8) (3.4.7)\n",
      "Requirement already satisfied: tritonclient==2.14.2 in /opt/conda/lib/python3.8/site-packages (from kserve==0.8) (2.14.2)\n",
      "Requirement already satisfied: six>=1.15 in /opt/conda/lib/python3.8/site-packages (from kserve==0.8) (1.15.0)\n",
      "Requirement already satisfied: urllib3>=1.15.1 in /opt/conda/lib/python3.8/site-packages (from kserve==0.8) (1.26.5)\n",
      "Requirement already satisfied: requests>=2.18.4 in /opt/conda/lib/python3.8/site-packages (from azure-core==1.17.0->kserve==0.8) (2.28.1)\n",
      "Requirement already satisfied: msrest>=0.6.18 in /opt/conda/lib/python3.8/site-packages (from azure-storage-blob==12.8.1->kserve==0.8) (0.6.21)\n",
      "Requirement already satisfied: s3transfer<0.6.0,>=0.5.0 in /opt/conda/lib/python3.8/site-packages (from boto3==1.20.24->kserve==0.8) (0.5.2)\n",
      "Requirement already satisfied: botocore<1.24.0,>=1.23.24 in /opt/conda/lib/python3.8/site-packages (from boto3==1.20.24->kserve==0.8) (1.23.54)\n",
      "Requirement already satisfied: pycparser in /opt/conda/lib/python3.8/site-packages (from cffi==1.14.6->kserve==0.8) (2.20)\n",
      "Requirement already satisfied: pytz in /opt/conda/lib/python3.8/site-packages (from google-api-core==1.29.0->kserve==0.8) (2021.1)\n",
      "Requirement already satisfied: packaging>=14.3 in /opt/conda/lib/python3.8/site-packages (from google-api-core==1.29.0->kserve==0.8) (20.9)\n",
      "Requirement already satisfied: protobuf>=3.12.0 in /opt/conda/lib/python3.8/site-packages (from google-api-core==1.29.0->kserve==0.8) (3.17.3)\n",
      "Requirement already satisfied: pyasn1-modules>=0.2.1 in /opt/conda/lib/python3.8/site-packages (from google-auth==1.34.0->kserve==0.8) (0.2.8)\n",
      "Requirement already satisfied: rsa<5,>=3.1.4 in /opt/conda/lib/python3.8/site-packages (from google-auth==1.34.0->kserve==0.8) (4.7.2)\n",
      "Requirement already satisfied: jsonschema in /opt/conda/lib/python3.8/site-packages (from ray[serve]==1.9.0->kserve==0.8) (3.2.0)\n",
      "Requirement already satisfied: click>=7.0 in /opt/conda/lib/python3.8/site-packages (from ray[serve]==1.9.0->kserve==0.8) (7.1.2)\n",
      "Requirement already satisfied: redis>=3.5.0 in /opt/conda/lib/python3.8/site-packages (from ray[serve]==1.9.0->kserve==0.8) (4.3.4)\n",
      "Requirement already satisfied: msgpack<2.0.0,>=1.0.0 in /opt/conda/lib/python3.8/site-packages (from ray[serve]==1.9.0->kserve==0.8) (1.0.4)\n",
      "Requirement already satisfied: pyyaml in /opt/conda/lib/python3.8/site-packages (from ray[serve]==1.9.0->kserve==0.8) (5.4.1)\n",
      "Requirement already satisfied: attrs in /opt/conda/lib/python3.8/site-packages (from ray[serve]==1.9.0->kserve==0.8) (21.2.0)\n",
      "Requirement already satisfied: filelock in /opt/conda/lib/python3.8/site-packages (from ray[serve]==1.9.0->kserve==0.8) (3.8.0)\n",
      "Requirement already satisfied: gpustat>=1.0.0b1 in /opt/conda/lib/python3.8/site-packages (from ray[serve]==1.9.0->kserve==0.8) (1.0.0)\n",
      "Requirement already satisfied: colorful in /opt/conda/lib/python3.8/site-packages (from ray[serve]==1.9.0->kserve==0.8) (0.5.4)\n",
      "Requirement already satisfied: opencensus in /opt/conda/lib/python3.8/site-packages (from ray[serve]==1.9.0->kserve==0.8) (0.11.0)\n",
      "Requirement already satisfied: aiosignal in /opt/conda/lib/python3.8/site-packages (from ray[serve]==1.9.0->kserve==0.8) (1.2.0)\n",
      "Requirement already satisfied: starlette in /opt/conda/lib/python3.8/site-packages (from ray[serve]==1.9.0->kserve==0.8) (0.20.4)\n",
      "Requirement already satisfied: uvicorn in /opt/conda/lib/python3.8/site-packages (from ray[serve]==1.9.0->kserve==0.8) (0.18.3)\n",
      "Requirement already satisfied: prometheus-client>=0.7.1 in /opt/conda/lib/python3.8/site-packages (from ray[serve]==1.9.0->kserve==0.8) (0.11.0)\n",
      "Requirement already satisfied: frozenlist in /opt/conda/lib/python3.8/site-packages (from ray[serve]==1.9.0->kserve==0.8) (1.3.1)\n",
      "Requirement already satisfied: py-spy>=0.2.0 in /opt/conda/lib/python3.8/site-packages (from ray[serve]==1.9.0->kserve==0.8) (0.3.14)\n",
      "Requirement already satisfied: aioredis<2 in /opt/conda/lib/python3.8/site-packages (from ray[serve]==1.9.0->kserve==0.8) (1.3.1)\n",
      "Requirement already satisfied: smart-open in /opt/conda/lib/python3.8/site-packages (from ray[serve]==1.9.0->kserve==0.8) (6.2.0)\n",
      "Requirement already satisfied: aiohttp>=3.7 in /opt/conda/lib/python3.8/site-packages (from ray[serve]==1.9.0->kserve==0.8) (3.8.3)\n",
      "Requirement already satisfied: aiohttp-cors in /opt/conda/lib/python3.8/site-packages (from ray[serve]==1.9.0->kserve==0.8) (0.7.0)\n",
      "Requirement already satisfied: fastapi in /opt/conda/lib/python3.8/site-packages (from ray[serve]==1.9.0->kserve==0.8) (0.85.0)\n",
      "Requirement already satisfied: python-rapidjson>=0.9.1 in /opt/conda/lib/python3.8/site-packages (from tritonclient==2.14.2->kserve==0.8) (1.8)\n",
      "Requirement already satisfied: PyJWT<3,>=1.0.0 in /opt/conda/lib/python3.8/site-packages (from adal>=1.2.2->kserve==0.8) (2.3.0)\n",
      "Requirement already satisfied: async-timeout<5.0,>=4.0.0a3 in /opt/conda/lib/python3.8/site-packages (from aiohttp>=3.7->ray[serve]==1.9.0->kserve==0.8) (4.0.2)\n",
      "Requirement already satisfied: yarl<2.0,>=1.0 in /opt/conda/lib/python3.8/site-packages (from aiohttp>=3.7->ray[serve]==1.9.0->kserve==0.8) (1.8.1)\n",
      "Requirement already satisfied: multidict<7.0,>=4.5 in /opt/conda/lib/python3.8/site-packages (from aiohttp>=3.7->ray[serve]==1.9.0->kserve==0.8) (6.0.2)\n",
      "Requirement already satisfied: charset-normalizer<3.0,>=2.0 in /opt/conda/lib/python3.8/site-packages (from aiohttp>=3.7->ray[serve]==1.9.0->kserve==0.8) (2.1.1)\n",
      "Requirement already satisfied: hiredis in /opt/conda/lib/python3.8/site-packages (from aioredis<2->ray[serve]==1.9.0->kserve==0.8) (2.0.0)\n",
      "Requirement already satisfied: msal-extensions<2.0.0,>=0.3.0 in /opt/conda/lib/python3.8/site-packages (from azure-identity>=1.6.0->kserve==0.8) (1.0.0)\n",
      "Requirement already satisfied: msal<2.0.0,>=1.12.0 in /opt/conda/lib/python3.8/site-packages (from azure-identity>=1.6.0->kserve==0.8) (1.19.0)\n",
      "Requirement already satisfied: deprecation<3.0,>=2.0 in /opt/conda/lib/python3.8/site-packages (from cloudevents>=1.2.0->kserve==0.8) (2.1.0)\n",
      "Requirement already satisfied: google-resumable-media<3.0dev,>=1.3.0 in /opt/conda/lib/python3.8/site-packages (from google-cloud-storage>=1.41.1->kserve==0.8) (2.3.2)\n",
      "Requirement already satisfied: google-cloud-core<3.0dev,>=1.6.0 in /opt/conda/lib/python3.8/site-packages (from google-cloud-storage>=1.41.1->kserve==0.8) (2.2.2)\n",
      "Requirement already satisfied: google-crc32c<2.0dev,>=1.0 in /opt/conda/lib/python3.8/site-packages (from google-resumable-media<3.0dev,>=1.3.0->google-cloud-storage>=1.41.1->kserve==0.8) (1.3.0)\n",
      "Requirement already satisfied: blessed>=1.17.1 in /opt/conda/lib/python3.8/site-packages (from gpustat>=1.0.0b1->ray[serve]==1.9.0->kserve==0.8) (1.19.1)\n",
      "Requirement already satisfied: nvidia-ml-py<=11.495.46,>=11.450.129 in /opt/conda/lib/python3.8/site-packages (from gpustat>=1.0.0b1->ray[serve]==1.9.0->kserve==0.8) (11.495.46)\n",
      "Requirement already satisfied: wcwidth>=0.1.4 in /opt/conda/lib/python3.8/site-packages (from blessed>=1.17.1->gpustat>=1.0.0b1->ray[serve]==1.9.0->kserve==0.8) (0.2.5)\n",
      "Requirement already satisfied: websocket-client!=0.40.0,!=0.41.*,!=0.42.*,>=0.32.0 in /opt/conda/lib/python3.8/site-packages (from kubernetes>=12.0.0->kserve==0.8) (1.0.1)\n",
      "Requirement already satisfied: requests-oauthlib in /opt/conda/lib/python3.8/site-packages (from kubernetes>=12.0.0->kserve==0.8) (1.3.0)\n",
      "Requirement already satisfied: configparser in /opt/conda/lib/python3.8/site-packages (from minio<7.0.0,>=4.0.9->kserve==0.8) (5.2.0)\n",
      "Requirement already satisfied: portalocker<3,>=1.0 in /opt/conda/lib/python3.8/site-packages (from msal-extensions<2.0.0,>=0.3.0->azure-identity>=1.6.0->kserve==0.8) (2.5.1)\n",
      "Requirement already satisfied: isodate>=0.6.0 in /opt/conda/lib/python3.8/site-packages (from msrest>=0.6.18->azure-storage-blob==12.8.1->kserve==0.8) (0.6.1)\n",
      "Requirement already satisfied: pyparsing>=2.0.2 in /opt/conda/lib/python3.8/site-packages (from packaging>=14.3->google-api-core==1.29.0->kserve==0.8) (2.4.7)\n",
      "Requirement already satisfied: pyasn1<0.5.0,>=0.4.6 in /opt/conda/lib/python3.8/site-packages (from pyasn1-modules>=0.2.1->google-auth==1.34.0->kserve==0.8) (0.4.8)\n",
      "Requirement already satisfied: deprecated>=1.2.3 in /opt/conda/lib/python3.8/site-packages (from redis>=3.5.0->ray[serve]==1.9.0->kserve==0.8) (1.2.13)\n",
      "Requirement already satisfied: wrapt<2,>=1.10 in /opt/conda/lib/python3.8/site-packages (from deprecated>=1.2.3->redis>=3.5.0->ray[serve]==1.9.0->kserve==0.8) (1.12.1)\n",
      "Requirement already satisfied: oauthlib>=3.0.0 in /opt/conda/lib/python3.8/site-packages (from requests-oauthlib->kubernetes>=12.0.0->kserve==0.8) (3.1.1)\n",
      "Requirement already satisfied: pydantic!=1.7,!=1.7.1,!=1.7.2,!=1.7.3,!=1.8,!=1.8.1,<2.0.0,>=1.6.2 in /opt/conda/lib/python3.8/site-packages (from fastapi->ray[serve]==1.9.0->kserve==0.8) (1.10.2)\n",
      "Requirement already satisfied: anyio<5,>=3.4.0 in /opt/conda/lib/python3.8/site-packages (from starlette->ray[serve]==1.9.0->kserve==0.8) (3.6.1)\n",
      "Requirement already satisfied: typing-extensions>=3.10.0 in /opt/conda/lib/python3.8/site-packages (from starlette->ray[serve]==1.9.0->kserve==0.8) (4.4.0)\n",
      "Requirement already satisfied: sniffio>=1.1 in /opt/conda/lib/python3.8/site-packages (from anyio<5,>=3.4.0->starlette->ray[serve]==1.9.0->kserve==0.8) (1.2.0)\n",
      "Requirement already satisfied: pyrsistent>=0.14.0 in /opt/conda/lib/python3.8/site-packages (from jsonschema->ray[serve]==1.9.0->kserve==0.8) (0.17.3)\n",
      "Requirement already satisfied: opencensus-context>=0.1.3 in /opt/conda/lib/python3.8/site-packages (from opencensus->ray[serve]==1.9.0->kserve==0.8) (0.1.3)\n",
      "Requirement already satisfied: h11>=0.8 in /opt/conda/lib/python3.8/site-packages (from uvicorn->ray[serve]==1.9.0->kserve==0.8) (0.14.0)\n",
      "Installing collected packages: argparse\n",
      "\u001b[31mERROR: pip's dependency resolver does not currently take into account all the packages that are installed. This behaviour is the source of the following dependency conflicts.\n",
      "kfserving 0.5.1 requires azure-storage-blob<=2.1.0,>=1.3.0, but you have azure-storage-blob 12.8.1 which is incompatible.\u001b[0m\n",
      "Successfully installed argparse-1.4.0\n"
     ]
    }
   ],
   "source": [
    "!pip install kserve==0.8"
   ]
  },
  {
   "cell_type": "code",
   "execution_count": 17,
   "id": "a15a356e-651d-4989-b0a7-9e3eae3acae7",
   "metadata": {},
   "outputs": [],
   "source": [
    "import warnings\n",
    "warnings.filterwarnings(\"ignore\")"
   ]
  },
  {
   "cell_type": "code",
   "execution_count": 18,
   "id": "04b514c1-11c3-4b3d-a97c-2c5545acc114",
   "metadata": {},
   "outputs": [],
   "source": [
    "from kserve import (\n",
    "    constants,\n",
    "    KServeClient,\n",
    "    V1beta1InferenceService,\n",
    "    V1beta1InferenceServiceSpec,\n",
    "    V1beta1PredictorSpec,\n",
    "    V1beta1SKLearnSpec,\n",
    "    V1beta1ModelSpec,\n",
    "    V1beta1ModelFormat,\n",
    "    V1beta1TFServingSpec,\n",
    "    utils\n",
    ")\n",
    "from kubernetes import client "
   ]
  },
  {
   "cell_type": "code",
   "execution_count": 19,
   "id": "f15a54e4-8aef-467c-ba58-42448277415e",
   "metadata": {},
   "outputs": [],
   "source": [
    "namespace = utils.get_default_target_namespace()\n",
    "service_name=\"sklearn-iris\"\n",
    "\n",
    "api_version = constants.KSERVE_GROUP + '/' + constants.KSERVE_V1BETA1_VERSION\n",
    "storage = 'gs://kfserving-examples/models/sklearn/1.0/model'\n",
    "image = \"kserve/sklearnserver:v0.9.0\"\n",
    "isvc = V1beta1InferenceService(api_version=api_version,\n",
    "                               kind=constants.KSERVE_KIND,\n",
    "                               metadata=client.V1ObjectMeta(name=service_name, namespace=namespace, annotations={'sidecar.istio.io/inject':'false'}),\n",
    "                               spec=V1beta1InferenceServiceSpec(\n",
    "                                   predictor=V1beta1PredictorSpec(\n",
    "                                       sklearn=(V1beta1SKLearnSpec(\n",
    "                                           image = image,\n",
    "                                            storage_uri = storage))))\n",
    ")"
   ]
  },
  {
   "cell_type": "code",
   "execution_count": 20,
   "id": "c655272e-9599-42dd-924b-f005e04f1b70",
   "metadata": {
    "scrolled": true,
    "tags": []
   },
   "outputs": [
    {
     "data": {
      "text/plain": [
       "{'apiVersion': 'serving.kserve.io/v1beta1',\n",
       " 'kind': 'InferenceService',\n",
       " 'metadata': {'annotations': {'sidecar.istio.io/inject': 'false'},\n",
       "  'creationTimestamp': '2022-10-07T01:16:03Z',\n",
       "  'generation': 1,\n",
       "  'managedFields': [{'apiVersion': 'serving.kserve.io/v1beta1',\n",
       "    'fieldsType': 'FieldsV1',\n",
       "    'fieldsV1': {'f:metadata': {'f:annotations': {'.': {},\n",
       "       'f:sidecar.istio.io/inject': {}}},\n",
       "     'f:spec': {'.': {},\n",
       "      'f:predictor': {'.': {},\n",
       "       'f:sklearn': {'.': {},\n",
       "        'f:image': {},\n",
       "        'f:name': {},\n",
       "        'f:storageUri': {}}}}},\n",
       "    'manager': 'OpenAPI-Generator',\n",
       "    'operation': 'Update',\n",
       "    'time': '2022-10-07T01:16:00Z'}],\n",
       "  'name': 'sklearn-iris',\n",
       "  'namespace': 'kubeflow-user-example-com',\n",
       "  'resourceVersion': '17161394',\n",
       "  'uid': '0ac8cab1-56a7-458d-a2be-30c0778d792e'},\n",
       " 'spec': {'predictor': {'sklearn': {'image': 'kserve/sklearnserver:v0.9.0',\n",
       "    'name': 'kserve-container',\n",
       "    'protocolVersion': 'v1',\n",
       "    'resources': {'limits': {'cpu': '1', 'memory': '2Gi'},\n",
       "     'requests': {'cpu': '1', 'memory': '2Gi'}},\n",
       "    'runtimeVersion': 'v0.7.0',\n",
       "    'storageUri': 'gs://kfserving-examples/models/sklearn/1.0/model'}}}}"
      ]
     },
     "execution_count": 20,
     "metadata": {},
     "output_type": "execute_result"
    }
   ],
   "source": [
    "KServe = KServeClient()\n",
    "KServe.create(isvc)"
   ]
  },
  {
   "cell_type": "code",
   "execution_count": 21,
   "id": "dfd34cd6-e655-48e8-a0cc-b088852c8b19",
   "metadata": {
    "scrolled": true,
    "tags": []
   },
   "outputs": [
    {
     "name": "stdout",
     "output_type": "stream",
     "text": [
      "NAME                 READY                           PREV                    LATEST URL                                                              \n",
      "sklearn-iris         Unknown                            0                       100                                                                  \n",
      "sklearn-iris         False                              0                       100                                                                  \n",
      "sklearn-iris         False                              0                       100                                                                  \n",
      "sklearn-iris         False                              0                       100                                                                  \n",
      "sklearn-iris         Unknown                            0                       100                                                                  \n",
      "sklearn-iris         Unknown                            0                       100                                                                  \n",
      "sklearn-iris         Unknown                            0                       100                                                                  \n",
      "sklearn-iris         True                               0                       100 http://sklearn-iris.kubeflow-user-example-com.example.com        \n"
     ]
    }
   ],
   "source": [
    "KServe.get(service_name, namespace=namespace, watch=True, timeout_seconds=120)\n",
    "isvc_resp=KServe.get(service_name, namespace=namespace)"
   ]
  },
  {
   "cell_type": "code",
   "execution_count": 22,
   "id": "1e230cfd-e672-435f-a869-ee30c2ee366c",
   "metadata": {
    "scrolled": true,
    "tags": []
   },
   "outputs": [
    {
     "data": {
      "text/plain": [
       "{'apiVersion': 'serving.kserve.io/v1beta1',\n",
       " 'kind': 'InferenceService',\n",
       " 'metadata': {'annotations': {'sidecar.istio.io/inject': 'false'},\n",
       "  'creationTimestamp': '2022-10-07T01:16:03Z',\n",
       "  'finalizers': ['inferenceservice.finalizers'],\n",
       "  'generation': 1,\n",
       "  'managedFields': [{'apiVersion': 'serving.kserve.io/v1beta1',\n",
       "    'fieldsType': 'FieldsV1',\n",
       "    'fieldsV1': {'f:metadata': {'f:annotations': {'.': {},\n",
       "       'f:sidecar.istio.io/inject': {}}},\n",
       "     'f:spec': {'.': {},\n",
       "      'f:predictor': {'.': {},\n",
       "       'f:sklearn': {'.': {},\n",
       "        'f:image': {},\n",
       "        'f:name': {},\n",
       "        'f:storageUri': {}}}}},\n",
       "    'manager': 'OpenAPI-Generator',\n",
       "    'operation': 'Update',\n",
       "    'time': '2022-10-07T01:16:00Z'},\n",
       "   {'apiVersion': 'serving.kserve.io/v1beta1',\n",
       "    'fieldsType': 'FieldsV1',\n",
       "    'fieldsV1': {'f:metadata': {'f:finalizers': {}},\n",
       "     'f:spec': {'f:predictor': {'f:containers': {},\n",
       "       'f:sklearn': {'f:args': {}}}},\n",
       "     'f:status': {'.': {},\n",
       "      'f:address': {'.': {}, 'f:url': {}},\n",
       "      'f:components': {'.': {},\n",
       "       'f:predictor': {'.': {},\n",
       "        'f:address': {'.': {}, 'f:url': {}},\n",
       "        'f:latestCreatedRevision': {},\n",
       "        'f:latestReadyRevision': {},\n",
       "        'f:latestRolledoutRevision': {},\n",
       "        'f:traffic': {},\n",
       "        'f:url': {}}},\n",
       "      'f:conditions': {},\n",
       "      'f:url': {}}},\n",
       "    'manager': 'manager',\n",
       "    'operation': 'Update',\n",
       "    'time': '2022-10-07T01:16:40Z'}],\n",
       "  'name': 'sklearn-iris',\n",
       "  'namespace': 'kubeflow-user-example-com',\n",
       "  'resourceVersion': '17162351',\n",
       "  'uid': '0ac8cab1-56a7-458d-a2be-30c0778d792e'},\n",
       " 'spec': {'predictor': {'sklearn': {'image': 'kserve/sklearnserver:v0.9.0',\n",
       "    'name': 'kserve-container',\n",
       "    'protocolVersion': 'v1',\n",
       "    'resources': {'limits': {'cpu': '1', 'memory': '2Gi'},\n",
       "     'requests': {'cpu': '1', 'memory': '2Gi'}},\n",
       "    'runtimeVersion': 'v0.7.0',\n",
       "    'storageUri': 'gs://kfserving-examples/models/sklearn/1.0/model'}}},\n",
       " 'status': {'address': {'url': 'http://sklearn-iris.kubeflow-user-example-com.svc.cluster.local/v1/models/sklearn-iris:predict'},\n",
       "  'components': {'predictor': {'address': {'url': 'http://sklearn-iris-predictor-default.kubeflow-user-example-com.svc.cluster.local'},\n",
       "    'latestCreatedRevision': 'sklearn-iris-predictor-default-00001',\n",
       "    'latestReadyRevision': 'sklearn-iris-predictor-default-00001',\n",
       "    'latestRolledoutRevision': 'sklearn-iris-predictor-default-00001',\n",
       "    'traffic': [{'latestRevision': True,\n",
       "      'percent': 100,\n",
       "      'revisionName': 'sklearn-iris-predictor-default-00001'}],\n",
       "    'url': 'http://sklearn-iris-predictor-default.kubeflow-user-example-com.example.com'}},\n",
       "  'conditions': [{'lastTransitionTime': '2022-10-07T01:16:40Z',\n",
       "    'status': 'True',\n",
       "    'type': 'IngressReady'},\n",
       "   {'lastTransitionTime': '2022-10-07T01:16:40Z',\n",
       "    'severity': 'Info',\n",
       "    'status': 'True',\n",
       "    'type': 'PredictorConfigurationReady'},\n",
       "   {'lastTransitionTime': '2022-10-07T01:16:40Z',\n",
       "    'status': 'True',\n",
       "    'type': 'PredictorReady'},\n",
       "   {'lastTransitionTime': '2022-10-07T01:16:39Z',\n",
       "    'severity': 'Info',\n",
       "    'status': 'True',\n",
       "    'type': 'PredictorRouteReady'},\n",
       "   {'lastTransitionTime': '2022-10-07T01:16:40Z',\n",
       "    'status': 'True',\n",
       "    'type': 'Ready'}],\n",
       "  'url': 'http://sklearn-iris.kubeflow-user-example-com.example.com'}}"
      ]
     },
     "execution_count": 22,
     "metadata": {},
     "output_type": "execute_result"
    }
   ],
   "source": [
    "isvc_resp"
   ]
  },
  {
   "cell_type": "code",
   "execution_count": 26,
   "id": "db6190ed-e900-4b7e-877e-f1a117667086",
   "metadata": {},
   "outputs": [],
   "source": [
    "sklearn_iris_input={\n",
    "    \"instances\": [\n",
    "      [6.8,  2.8,  4.8,  1.4],\n",
    "      [6.0,  3.4,  4.5,  1.6]\n",
    "    ]\n",
    "}"
   ]
  },
  {
   "cell_type": "code",
   "execution_count": 27,
   "id": "97118907-866c-448a-bbe5-d26ecac97d95",
   "metadata": {},
   "outputs": [
    {
     "name": "stdout",
     "output_type": "stream",
     "text": [
      "http://sklearn-iris.kubeflow-user-example-com.svc.cluster.local/v1/models/sklearn-iris:predict\n",
      "{\"predictions\": [1, 1]}\n"
     ]
    }
   ],
   "source": [
    "import requests\n",
    "isvc_url = isvc_resp['status']['address']['url']\n",
    "print(isvc_url)\n",
    "\n",
    "response = requests.post(isvc_url, json=sklearn_iris_input)\n",
    "print(response.text)"
   ]
  },
  {
   "cell_type": "code",
   "execution_count": null,
   "id": "7c6aef95-b5c9-41a6-8445-cb6e98f11912",
   "metadata": {},
   "outputs": [],
   "source": [
    "# curl을 이용한 요청"
   ]
  },
  {
   "cell_type": "code",
   "execution_count": 28,
   "id": "5d304ed6-336e-422f-9a94-91a7df0ddfd2",
   "metadata": {},
   "outputs": [
    {
     "name": "stdout",
     "output_type": "stream",
     "text": [
      "{'authservice_session': 'MTY2NTEwNTQxNXxOd3dBTkZsSlFsRk5RbE5YVjFNM1ExUlZUMHRIUkVKU1IweFdSMVJCUlZOUU5ESlJSazlHVTFOTU0wNU9ORkZSVDFSWldFOUdNMUU9fIf82wgh4haAOzk3RWOezrFxwLobd44hIi5mfkQBE2TZ'}\n"
     ]
    }
   ],
   "source": [
    "import requests\n",
    "import kfp\n",
    "\n",
    "HOST = \"https://192.168.0.30:8080/\"\n",
    "USERNAME = \"user@example.com\"\n",
    "PASSWORD = \"12341234\"\n",
    "\n",
    "session = requests.Session()\n",
    "response = session.get(HOST, verify=False) #ssl 접속시 verify=False \n",
    "\n",
    "headers = {\n",
    "    \"Content-Type\": \"application/x-www-form-urlencoded\",\n",
    "}\n",
    "\n",
    "data = {\"login\": USERNAME, \"password\": PASSWORD}\n",
    "session.post(response.url, headers=headers, data=data)\n",
    "# session_cookie = session.cookies.get_dict()[\"authservice_session\"]\n",
    "session_cookie = session.cookies.get_dict()\n",
    "print(session_cookie)"
   ]
  },
  {
   "cell_type": "code",
   "execution_count": 29,
   "id": "b59b182f-72e4-4922-bd6c-235e07ab533e",
   "metadata": {},
   "outputs": [
    {
     "name": "stdout",
     "output_type": "stream",
     "text": [
      "{'predictions': [1, 1]}\n"
     ]
    }
   ],
   "source": [
    "import json\n",
    "headers = {\"Host\": \"sklearn-iris.kubeflow-user-example-com.example.com\"}\n",
    "res = session.post(\"https://192.168.0.30:8080/v1/models/sklearn-iris:predict\", headers=headers, cookies=session_cookie, data=json.dumps(sklearn_iris_input))\n",
    "print(res.json())"
   ]
  }
 ],
 "metadata": {
  "kernelspec": {
   "display_name": "Python 3",
   "language": "python",
   "name": "python3"
  },
  "language_info": {
   "codemirror_mode": {
    "name": "ipython",
    "version": 3
   },
   "file_extension": ".py",
   "mimetype": "text/x-python",
   "name": "python",
   "nbconvert_exporter": "python",
   "pygments_lexer": "ipython3",
   "version": "3.8.10"
  }
 },
 "nbformat": 4,
 "nbformat_minor": 5
}
