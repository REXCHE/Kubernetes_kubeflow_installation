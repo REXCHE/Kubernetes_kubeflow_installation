{
 "cells": [
  {
   "cell_type": "code",
   "execution_count": null,
   "metadata": {},
   "outputs": [],
   "source": [
    "#working at kubeflow-user-example-com namespace jupyternotebook"
   ]
  },
  {
   "cell_type": "code",
   "execution_count": null,
   "metadata": {},
   "outputs": [],
   "source": [
    "!pip uninstall -y ray\n",
    "!pip install ray==1.6.0\n",
    "!pip install kfserving"
   ]
  },
  {
   "cell_type": "code",
   "execution_count": null,
   "metadata": {},
   "outputs": [],
   "source": [
    "\n",
    "\n",
    "from kubernetes import client \n",
    "from kfserving import KFServingClient\n",
    "from kfserving import constants\n",
    "from kfserving import utils\n",
    "from kfserving import V1beta1InferenceService\n",
    "from kfserving import V1beta1InferenceServiceSpec\n",
    "from kfserving import V1beta1PredictorSpec\n",
    "from kfserving import V1beta1TFServingSpec\n"
   ]
  },
  {
   "cell_type": "code",
   "execution_count": null,
   "metadata": {},
   "outputs": [],
   "source": [
    "\n",
    "namespace = utils.get_default_target_namespace()\n",
    "\n",
    "api_version = constants.KFSERVING_GROUP + '/' + constants.KFSERVING_V1BETA1_VERSION\n",
    "\n",
    "isvc = V1beta1InferenceService(api_version=api_version,\n",
    "                               kind=constants.KFSERVING_KIND,\n",
    "                               metadata=client.V1ObjectMeta(\n",
    "                                   name='flower-sample', namespace=namespace),\n",
    "                               spec=V1beta1InferenceServiceSpec(\n",
    "                               predictor=V1beta1PredictorSpec(\n",
    "                               tensorflow=(V1beta1TFServingSpec(\n",
    "                                   storage_uri='gs://kserve/models/flowers'))))\n",
    ")\n"
   ]
  },
  {
   "cell_type": "code",
   "execution_count": null,
   "metadata": {},
   "outputs": [],
   "source": [
    "\n",
    "KFServing = KFServingClient()\n",
    "KFServing.create(isvc)\n"
   ]
  },
  {
   "cell_type": "code",
   "execution_count": null,
   "metadata": {},
   "outputs": [],
   "source": [
    "\n",
    "KFServing.get('flower-sample', namespace=namespace, watch=True, timeout_seconds=120)"
   ]
  },
  {
   "cell_type": "code",
   "execution_count": null,
   "metadata": {},
   "outputs": [],
   "source": []
  },
  {
   "cell_type": "code",
   "execution_count": null,
   "metadata": {},
   "outputs": [],
   "source": []
  },
  {
   "cell_type": "code",
   "execution_count": null,
   "metadata": {},
   "outputs": [],
   "source": []
  },
  {
   "cell_type": "code",
   "execution_count": null,
   "metadata": {},
   "outputs": [],
   "source": []
  },
  {
   "cell_type": "code",
   "execution_count": null,
   "metadata": {},
   "outputs": [],
   "source": []
  },
  {
   "cell_type": "code",
   "execution_count": null,
   "metadata": {},
   "outputs": [],
   "source": []
  },
  {
   "cell_type": "code",
   "execution_count": null,
   "metadata": {},
   "outputs": [],
   "source": []
  }
 ],
 "metadata": {
  "language_info": {
   "name": "python"
  },
  "orig_nbformat": 4
 },
 "nbformat": 4,
 "nbformat_minor": 2
}
