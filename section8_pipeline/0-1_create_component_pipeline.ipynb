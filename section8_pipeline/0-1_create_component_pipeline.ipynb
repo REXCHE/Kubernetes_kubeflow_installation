{
 "cells": [
  {
   "cell_type": "code",
   "execution_count": null,
   "id": "9f8d0ac9-1b96-4fb6-9e6e-c02499ffd5b6",
   "metadata": {
    "scrolled": true,
    "tags": []
   },
   "outputs": [],
   "source": [
    "# !pip install kfp==1.8.14"
   ]
  },
  {
   "cell_type": "markdown",
   "id": "d7c53fd1-41b4-49b3-91aa-5fa007a71890",
   "metadata": {},
   "source": [
    "# create hello world component"
   ]
  },
  {
   "cell_type": "code",
   "execution_count": 1,
   "id": "d2f96187-6adf-4215-9182-44afb0949d5c",
   "metadata": {},
   "outputs": [],
   "source": [
    "from kfp.components import create_component_from_func"
   ]
  },
  {
   "cell_type": "code",
   "execution_count": 2,
   "id": "bba6e678-b036-460b-ab2a-6e1f2fe7cb84",
   "metadata": {
    "scrolled": true,
    "tags": []
   },
   "outputs": [
    {
     "data": {
      "text/plain": [
       "\u001b[0;31mSignature:\u001b[0m\n",
       "\u001b[0mcreate_component_from_func\u001b[0m\u001b[0;34m(\u001b[0m\u001b[0;34m\u001b[0m\n",
       "\u001b[0;34m\u001b[0m    \u001b[0mfunc\u001b[0m\u001b[0;34m:\u001b[0m \u001b[0mCallable\u001b[0m\u001b[0;34m,\u001b[0m\u001b[0;34m\u001b[0m\n",
       "\u001b[0;34m\u001b[0m    \u001b[0moutput_component_file\u001b[0m\u001b[0;34m:\u001b[0m \u001b[0mUnion\u001b[0m\u001b[0;34m[\u001b[0m\u001b[0mstr\u001b[0m\u001b[0;34m,\u001b[0m \u001b[0mNoneType\u001b[0m\u001b[0;34m]\u001b[0m \u001b[0;34m=\u001b[0m \u001b[0;32mNone\u001b[0m\u001b[0;34m,\u001b[0m\u001b[0;34m\u001b[0m\n",
       "\u001b[0;34m\u001b[0m    \u001b[0mbase_image\u001b[0m\u001b[0;34m:\u001b[0m \u001b[0mUnion\u001b[0m\u001b[0;34m[\u001b[0m\u001b[0mstr\u001b[0m\u001b[0;34m,\u001b[0m \u001b[0mNoneType\u001b[0m\u001b[0;34m]\u001b[0m \u001b[0;34m=\u001b[0m \u001b[0;32mNone\u001b[0m\u001b[0;34m,\u001b[0m\u001b[0;34m\u001b[0m\n",
       "\u001b[0;34m\u001b[0m    \u001b[0mpackages_to_install\u001b[0m\u001b[0;34m:\u001b[0m \u001b[0mList\u001b[0m\u001b[0;34m[\u001b[0m\u001b[0mstr\u001b[0m\u001b[0;34m]\u001b[0m \u001b[0;34m=\u001b[0m \u001b[0;32mNone\u001b[0m\u001b[0;34m,\u001b[0m\u001b[0;34m\u001b[0m\n",
       "\u001b[0;34m\u001b[0m    \u001b[0mannotations\u001b[0m\u001b[0;34m:\u001b[0m \u001b[0mUnion\u001b[0m\u001b[0;34m[\u001b[0m\u001b[0mMapping\u001b[0m\u001b[0;34m[\u001b[0m\u001b[0mstr\u001b[0m\u001b[0;34m,\u001b[0m \u001b[0mstr\u001b[0m\u001b[0;34m]\u001b[0m\u001b[0;34m,\u001b[0m \u001b[0mNoneType\u001b[0m\u001b[0;34m]\u001b[0m \u001b[0;34m=\u001b[0m \u001b[0;32mNone\u001b[0m\u001b[0;34m,\u001b[0m\u001b[0;34m\u001b[0m\n",
       "\u001b[0;34m\u001b[0m\u001b[0;34m)\u001b[0m\u001b[0;34m\u001b[0m\u001b[0;34m\u001b[0m\u001b[0m\n",
       "\u001b[0;31mSource:\u001b[0m   \n",
       "\u001b[0;32mdef\u001b[0m \u001b[0mcreate_component_from_func\u001b[0m\u001b[0;34m(\u001b[0m\u001b[0;34m\u001b[0m\n",
       "\u001b[0;34m\u001b[0m    \u001b[0mfunc\u001b[0m\u001b[0;34m:\u001b[0m \u001b[0mCallable\u001b[0m\u001b[0;34m,\u001b[0m\u001b[0;34m\u001b[0m\n",
       "\u001b[0;34m\u001b[0m    \u001b[0moutput_component_file\u001b[0m\u001b[0;34m:\u001b[0m \u001b[0mOptional\u001b[0m\u001b[0;34m[\u001b[0m\u001b[0mstr\u001b[0m\u001b[0;34m]\u001b[0m \u001b[0;34m=\u001b[0m \u001b[0;32mNone\u001b[0m\u001b[0;34m,\u001b[0m\u001b[0;34m\u001b[0m\n",
       "\u001b[0;34m\u001b[0m    \u001b[0mbase_image\u001b[0m\u001b[0;34m:\u001b[0m \u001b[0mOptional\u001b[0m\u001b[0;34m[\u001b[0m\u001b[0mstr\u001b[0m\u001b[0;34m]\u001b[0m \u001b[0;34m=\u001b[0m \u001b[0;32mNone\u001b[0m\u001b[0;34m,\u001b[0m\u001b[0;34m\u001b[0m\n",
       "\u001b[0;34m\u001b[0m    \u001b[0mpackages_to_install\u001b[0m\u001b[0;34m:\u001b[0m \u001b[0mList\u001b[0m\u001b[0;34m[\u001b[0m\u001b[0mstr\u001b[0m\u001b[0;34m]\u001b[0m \u001b[0;34m=\u001b[0m \u001b[0;32mNone\u001b[0m\u001b[0;34m,\u001b[0m\u001b[0;34m\u001b[0m\n",
       "\u001b[0;34m\u001b[0m    \u001b[0mannotations\u001b[0m\u001b[0;34m:\u001b[0m \u001b[0mOptional\u001b[0m\u001b[0;34m[\u001b[0m\u001b[0mMapping\u001b[0m\u001b[0;34m[\u001b[0m\u001b[0mstr\u001b[0m\u001b[0;34m,\u001b[0m \u001b[0mstr\u001b[0m\u001b[0;34m]\u001b[0m\u001b[0;34m]\u001b[0m \u001b[0;34m=\u001b[0m \u001b[0;32mNone\u001b[0m\u001b[0;34m,\u001b[0m\u001b[0;34m\u001b[0m\n",
       "\u001b[0;34m\u001b[0m\u001b[0;34m)\u001b[0m\u001b[0;34m:\u001b[0m\u001b[0;34m\u001b[0m\n",
       "\u001b[0;34m\u001b[0m    \u001b[0;34m'''Converts a Python function to a component and returns a task factory\u001b[0m\n",
       "\u001b[0;34m    (a function that accepts arguments and returns a task object).\u001b[0m\n",
       "\u001b[0;34m\u001b[0m\n",
       "\u001b[0;34m    Args:\u001b[0m\n",
       "\u001b[0;34m        func: The python function to convert\u001b[0m\n",
       "\u001b[0;34m        base_image: Optional. Specify a custom Docker container image to use in the component. For lightweight components, the image needs to have python 3.5+. Default is the python image corresponding to the current python environment.\u001b[0m\n",
       "\u001b[0;34m        output_component_file: Optional. Write a component definition to a local file. The produced component file can be loaded back by calling :code:`load_component_from_file` or :code:`load_component_from_uri`.\u001b[0m\n",
       "\u001b[0;34m        packages_to_install: Optional. List of [versioned] python packages to pip install before executing the user function.\u001b[0m\n",
       "\u001b[0;34m        annotations: Optional. Allows adding arbitrary key-value data to the component specification.\u001b[0m\n",
       "\u001b[0;34m\u001b[0m\n",
       "\u001b[0;34m    Returns:\u001b[0m\n",
       "\u001b[0;34m        A factory function with a strongly-typed signature taken from the python function.\u001b[0m\n",
       "\u001b[0;34m        Once called with the required arguments, the factory constructs a task instance that can run the original function in a container.\u001b[0m\n",
       "\u001b[0;34m\u001b[0m\n",
       "\u001b[0;34m    Examples:\u001b[0m\n",
       "\u001b[0;34m        The function name and docstring are used as component name and description. Argument and return annotations are used as component input/output types::\u001b[0m\n",
       "\u001b[0;34m\u001b[0m\n",
       "\u001b[0;34m            def add(a: float, b: float) -> float:\u001b[0m\n",
       "\u001b[0;34m                \"\"\"Returns sum of two arguments\"\"\"\u001b[0m\n",
       "\u001b[0;34m                return a + b\u001b[0m\n",
       "\u001b[0;34m\u001b[0m\n",
       "\u001b[0;34m            # add_op is a task factory function that creates a task object when given arguments\u001b[0m\n",
       "\u001b[0;34m            add_op = create_component_from_func(\u001b[0m\n",
       "\u001b[0;34m                func=add,\u001b[0m\n",
       "\u001b[0;34m                base_image='python:3.7', # Optional\u001b[0m\n",
       "\u001b[0;34m                output_component_file='add.component.yaml', # Optional\u001b[0m\n",
       "\u001b[0;34m                packages_to_install=['pandas==0.24'], # Optional\u001b[0m\n",
       "\u001b[0;34m            )\u001b[0m\n",
       "\u001b[0;34m\u001b[0m\n",
       "\u001b[0;34m            # The component spec can be accessed through the .component_spec attribute:\u001b[0m\n",
       "\u001b[0;34m            add_op.component_spec.save('add.component.yaml')\u001b[0m\n",
       "\u001b[0;34m\u001b[0m\n",
       "\u001b[0;34m            # The component function can be called with arguments to create a task:\u001b[0m\n",
       "\u001b[0;34m            add_task = add_op(1, 3)\u001b[0m\n",
       "\u001b[0;34m\u001b[0m\n",
       "\u001b[0;34m            # The resulting task has output references, corresponding to the component outputs.\u001b[0m\n",
       "\u001b[0;34m            # When the function only has a single anonymous return value, the output name is \"Output\":\u001b[0m\n",
       "\u001b[0;34m            sum_output_ref = add_task.outputs['Output']\u001b[0m\n",
       "\u001b[0;34m\u001b[0m\n",
       "\u001b[0;34m            # These task output references can be passed to other component functions, constructing a computation graph:\u001b[0m\n",
       "\u001b[0;34m            task2 = add_op(sum_output_ref, 5)\u001b[0m\n",
       "\u001b[0;34m\u001b[0m\n",
       "\u001b[0;34m\u001b[0m\n",
       "\u001b[0;34m        :code:`create_component_from_func` function can also be used as decorator::\u001b[0m\n",
       "\u001b[0;34m\u001b[0m\n",
       "\u001b[0;34m            @create_component_from_func\u001b[0m\n",
       "\u001b[0;34m            def add_op(a: float, b: float) -> float:\u001b[0m\n",
       "\u001b[0;34m                \"\"\"Returns sum of two arguments\"\"\"\u001b[0m\n",
       "\u001b[0;34m                return a + b\u001b[0m\n",
       "\u001b[0;34m\u001b[0m\n",
       "\u001b[0;34m        To declare a function with multiple return values, use the :code:`NamedTuple` return annotation syntax::\u001b[0m\n",
       "\u001b[0;34m\u001b[0m\n",
       "\u001b[0;34m            from typing import NamedTuple\u001b[0m\n",
       "\u001b[0;34m\u001b[0m\n",
       "\u001b[0;34m            def add_multiply_two_numbers(a: float, b: float) -> NamedTuple('Outputs', [('sum', float), ('product', float)]):\u001b[0m\n",
       "\u001b[0;34m                \"\"\"Returns sum and product of two arguments\"\"\"\u001b[0m\n",
       "\u001b[0;34m                return (a + b, a * b)\u001b[0m\n",
       "\u001b[0;34m\u001b[0m\n",
       "\u001b[0;34m            add_multiply_op = create_component_from_func(add_multiply_two_numbers)\u001b[0m\n",
       "\u001b[0;34m\u001b[0m\n",
       "\u001b[0;34m            # The component function can be called with arguments to create a task:\u001b[0m\n",
       "\u001b[0;34m            add_multiply_task = add_multiply_op(1, 3)\u001b[0m\n",
       "\u001b[0;34m\u001b[0m\n",
       "\u001b[0;34m            # The resulting task has output references, corresponding to the component outputs:\u001b[0m\n",
       "\u001b[0;34m            sum_output_ref = add_multiply_task.outputs['sum']\u001b[0m\n",
       "\u001b[0;34m\u001b[0m\n",
       "\u001b[0;34m            # These task output references can be passed to other component functions, constructing a computation graph:\u001b[0m\n",
       "\u001b[0;34m            task2 = add_multiply_op(sum_output_ref, 5)\u001b[0m\n",
       "\u001b[0;34m\u001b[0m\n",
       "\u001b[0;34m        Bigger data should be read from files and written to files.\u001b[0m\n",
       "\u001b[0;34m        Use the :py:class:`kfp.components.InputPath` parameter annotation to tell the system that the function wants to consume the corresponding input data as a file. The system will download the data, write it to a local file and then pass the **path** of that file to the function.\u001b[0m\n",
       "\u001b[0;34m        Use the :py:class:`kfp.components.OutputPath` parameter annotation to tell the system that the function wants to produce the corresponding output data as a file. The system will prepare and pass the **path** of a file where the function should write the output data. After the function exits, the system will upload the data to the storage system so that it can be passed to downstream components.\u001b[0m\n",
       "\u001b[0;34m\u001b[0m\n",
       "\u001b[0;34m        You can specify the type of the consumed/produced data by specifying the type argument to :py:class:`kfp.components.InputPath` and :py:class:`kfp.components.OutputPath`. The type can be a python type or an arbitrary type name string. :code:`OutputPath('CatBoostModel')` means that the function states that the data it has written to a file has type :code:`CatBoostModel`. :code:`InputPath('CatBoostModel')` means that the function states that it expect the data it reads from a file to have type 'CatBoostModel'. When the pipeline author connects inputs to outputs the system checks whether the types match.\u001b[0m\n",
       "\u001b[0;34m        Every kind of data can be consumed as a file input. Conversely, bigger data should not be consumed by value as all value inputs pass through the command line.\u001b[0m\n",
       "\u001b[0;34m\u001b[0m\n",
       "\u001b[0;34m        Example of a component function declaring file input and output::\u001b[0m\n",
       "\u001b[0;34m\u001b[0m\n",
       "\u001b[0;34m            def catboost_train_classifier(\u001b[0m\n",
       "\u001b[0;34m                training_data_path: InputPath('CSV'),            # Path to input data file of type \"CSV\"\u001b[0m\n",
       "\u001b[0;34m                trained_model_path: OutputPath('CatBoostModel'), # Path to output data file of type \"CatBoostModel\"\u001b[0m\n",
       "\u001b[0;34m                number_of_trees: int = 100,                      # Small output of type \"Integer\"\u001b[0m\n",
       "\u001b[0;34m            ) -> NamedTuple('Outputs', [\u001b[0m\n",
       "\u001b[0;34m                ('Accuracy', float),  # Small output of type \"Float\"\u001b[0m\n",
       "\u001b[0;34m                ('Precision', float), # Small output of type \"Float\"\u001b[0m\n",
       "\u001b[0;34m                ('JobUri', 'URI'),    # Small output of type \"URI\"\u001b[0m\n",
       "\u001b[0;34m            ]):\u001b[0m\n",
       "\u001b[0;34m                \"\"\"Trains CatBoost classification model\"\"\"\u001b[0m\n",
       "\u001b[0;34m                ...\u001b[0m\n",
       "\u001b[0;34m\u001b[0m\n",
       "\u001b[0;34m                return (accuracy, precision, recall)\u001b[0m\n",
       "\u001b[0;34m    '''\u001b[0m\u001b[0;34m\u001b[0m\n",
       "\u001b[0;34m\u001b[0m\u001b[0;34m\u001b[0m\n",
       "\u001b[0;34m\u001b[0m    \u001b[0mcomponent_spec\u001b[0m \u001b[0;34m=\u001b[0m \u001b[0m_func_to_component_spec\u001b[0m\u001b[0;34m(\u001b[0m\u001b[0;34m\u001b[0m\n",
       "\u001b[0;34m\u001b[0m        \u001b[0mfunc\u001b[0m\u001b[0;34m=\u001b[0m\u001b[0mfunc\u001b[0m\u001b[0;34m,\u001b[0m\u001b[0;34m\u001b[0m\n",
       "\u001b[0;34m\u001b[0m        \u001b[0mbase_image\u001b[0m\u001b[0;34m=\u001b[0m\u001b[0mbase_image\u001b[0m\u001b[0;34m,\u001b[0m\u001b[0;34m\u001b[0m\n",
       "\u001b[0;34m\u001b[0m        \u001b[0mpackages_to_install\u001b[0m\u001b[0;34m=\u001b[0m\u001b[0mpackages_to_install\u001b[0m\u001b[0;34m,\u001b[0m\u001b[0;34m\u001b[0m\n",
       "\u001b[0;34m\u001b[0m    \u001b[0;34m)\u001b[0m\u001b[0;34m\u001b[0m\n",
       "\u001b[0;34m\u001b[0m    \u001b[0;32mif\u001b[0m \u001b[0mannotations\u001b[0m\u001b[0;34m:\u001b[0m\u001b[0;34m\u001b[0m\n",
       "\u001b[0;34m\u001b[0m        \u001b[0mcomponent_spec\u001b[0m\u001b[0;34m.\u001b[0m\u001b[0mmetadata\u001b[0m \u001b[0;34m=\u001b[0m \u001b[0mstructures\u001b[0m\u001b[0;34m.\u001b[0m\u001b[0mMetadataSpec\u001b[0m\u001b[0;34m(\u001b[0m\u001b[0;34m\u001b[0m\n",
       "\u001b[0;34m\u001b[0m            \u001b[0mannotations\u001b[0m\u001b[0;34m=\u001b[0m\u001b[0mannotations\u001b[0m\u001b[0;34m,\u001b[0m\u001b[0;34m)\u001b[0m\u001b[0;34m\u001b[0m\n",
       "\u001b[0;34m\u001b[0m\u001b[0;34m\u001b[0m\n",
       "\u001b[0;34m\u001b[0m    \u001b[0;32mif\u001b[0m \u001b[0moutput_component_file\u001b[0m\u001b[0;34m:\u001b[0m\u001b[0;34m\u001b[0m\n",
       "\u001b[0;34m\u001b[0m        \u001b[0mcomponent_spec\u001b[0m\u001b[0;34m.\u001b[0m\u001b[0msave\u001b[0m\u001b[0;34m(\u001b[0m\u001b[0moutput_component_file\u001b[0m\u001b[0;34m)\u001b[0m\u001b[0;34m\u001b[0m\n",
       "\u001b[0;34m\u001b[0m\u001b[0;34m\u001b[0m\n",
       "\u001b[0;34m\u001b[0m    \u001b[0;32mreturn\u001b[0m \u001b[0m_create_task_factory_from_component_spec\u001b[0m\u001b[0;34m(\u001b[0m\u001b[0mcomponent_spec\u001b[0m\u001b[0;34m)\u001b[0m\u001b[0;34m\u001b[0m\u001b[0;34m\u001b[0m\u001b[0m\n",
       "\u001b[0;31mFile:\u001b[0m      /opt/conda/lib/python3.8/site-packages/kfp/components/_python_op.py\n",
       "\u001b[0;31mType:\u001b[0m      function\n"
      ]
     },
     "metadata": {},
     "output_type": "display_data"
    }
   ],
   "source": [
    "create_component_from_func??"
   ]
  },
  {
   "cell_type": "code",
   "execution_count": 3,
   "id": "5ca95416-d709-4ab7-be64-d879731e509d",
   "metadata": {},
   "outputs": [],
   "source": [
    "@create_component_from_func\n",
    "def hello_world_component() -> str:\n",
    "    ret = \"Hello World!\"\n",
    "    print(ret)\n",
    "    return ret"
   ]
  },
  {
   "cell_type": "code",
   "execution_count": 4,
   "id": "736c0006-7fef-4cba-9cd8-31daf560074d",
   "metadata": {},
   "outputs": [
    {
     "data": {
      "text/plain": [
       "TaskSpec(component_ref=ComponentReference(name=None, digest=None, tag=None, url=None, spec=ComponentSpec(name='Hello world component', description=None, metadata=None, inputs=None, outputs=[OutputSpec(name='Output', type='String', description=None, annotations=None)], implementation=ContainerImplementation(container=ContainerSpec(image='python:3.7', command=['sh', '-ec', 'program_path=$(mktemp)\\nprintf \"%s\" \"$0\" > \"$program_path\"\\npython3 -u \"$program_path\" \"$@\"\\n', 'def hello_world_component():\\n    ret = \"Hello World!\"\\n    print(ret)\\n    return ret\\n\\ndef _serialize_str(str_value: str) -> str:\\n    if not isinstance(str_value, str):\\n        raise TypeError(\\'Value \"{}\" has type \"{}\" instead of str.\\'.format(\\n            str(str_value), str(type(str_value))))\\n    return str_value\\n\\nimport argparse\\n_parser = argparse.ArgumentParser(prog=\\'Hello world component\\', description=\\'\\')\\n_parser.add_argument(\"----output-paths\", dest=\"_output_paths\", type=str, nargs=1)\\n_parsed_args = vars(_parser.parse_args())\\n_output_files = _parsed_args.pop(\"_output_paths\", [])\\n\\n_outputs = hello_world_component(**_parsed_args)\\n\\n_outputs = [_outputs]\\n\\n_output_serializers = [\\n    _serialize_str,\\n\\n]\\n\\nimport os\\nfor idx, output_file in enumerate(_output_files):\\n    try:\\n        os.makedirs(os.path.dirname(output_file))\\n    except OSError:\\n        pass\\n    with open(output_file, \\'w\\') as f:\\n        f.write(_output_serializers[idx](_outputs[idx]))\\n'], args=['----output-paths', OutputPathPlaceholder(output_name='Output')], env=None, file_outputs=None)), version='google.com/cloud/pipelines/component/v1')), arguments={}, is_enabled=None, execution_options=None, annotations=None)"
      ]
     },
     "execution_count": 4,
     "metadata": {},
     "output_type": "execute_result"
    }
   ],
   "source": [
    "hello_world_component()"
   ]
  },
  {
   "cell_type": "code",
   "execution_count": 5,
   "id": "15038b5c-db3d-4e76-b2d3-30fcf1e7f28f",
   "metadata": {},
   "outputs": [],
   "source": [
    "component_name = \"0-1_hello-world-component.yaml\"\n",
    "hello_world_component.component_spec.save(component_name)"
   ]
  },
  {
   "cell_type": "markdown",
   "id": "20c81056-b3f3-4de5-a01f-2dfa13ed1961",
   "metadata": {},
   "source": [
    "# create hello world pipeline"
   ]
  },
  {
   "cell_type": "code",
   "execution_count": 6,
   "id": "9e18b516-d994-495e-9e30-5d86598ee625",
   "metadata": {},
   "outputs": [],
   "source": [
    "import kfp"
   ]
  },
  {
   "cell_type": "code",
   "execution_count": 7,
   "id": "2b2245c8-2369-488d-83b5-a555d5f20bd8",
   "metadata": {},
   "outputs": [],
   "source": [
    "@kfp.dsl.pipeline(name=\"hello_world_pipeline1\", \n",
    "                  description=\"Hello World Pipeline!\")\n",
    "def hello_world_pipeline():\n",
    "    hello_world_task = hello_world_component()"
   ]
  },
  {
   "cell_type": "code",
   "execution_count": 8,
   "id": "27804afc-3d02-4e2e-9812-00e637c01e1c",
   "metadata": {},
   "outputs": [],
   "source": [
    "kfp.compiler.Compiler().compile(hello_world_pipeline, \"hello-world-pipeline.zip\")"
   ]
  },
  {
   "cell_type": "markdown",
   "id": "6bde34cb-ef0c-4632-bcfd-3d1280a38919",
   "metadata": {},
   "source": [
    "component 생성후 pipeline 생성"
   ]
  },
  {
   "cell_type": "code",
   "execution_count": null,
   "id": "2c351689-ede6-4738-ba5a-aabe6c9729bc",
   "metadata": {},
   "outputs": [],
   "source": [
    "def hello_world_component2():\n",
    "    ret = \"Hello World!\"\n",
    "    print(ret)\n",
    "    return ret\n",
    "\n",
    "@kfp.dsl.pipeline(name=\"hello_world_pipeline2\", description=\"Hello World Pipeline!\")\n",
    "def hello_world_pipeline():\n",
    "    hello_world_op = kfp.components.func_to_container_op(hello_world_component2)\n",
    "    hello_world_task = hello_world_op()\n",
    "\n",
    "    kfp.compiler.Compiler().compile(hello_world_pipeline, \"hello-world-pipeline2.zip\")"
   ]
  }
 ],
 "metadata": {
  "kernelspec": {
   "display_name": "Python 3",
   "language": "python",
   "name": "python3"
  },
  "language_info": {
   "codemirror_mode": {
    "name": "ipython",
    "version": 3
   },
   "file_extension": ".py",
   "mimetype": "text/x-python",
   "name": "python",
   "nbconvert_exporter": "python",
   "pygments_lexer": "ipython3",
   "version": "3.8.10"
  }
 },
 "nbformat": 4,
 "nbformat_minor": 5
}
